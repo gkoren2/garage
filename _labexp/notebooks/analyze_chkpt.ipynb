{
 "cells": [
  {
   "cell_type": "code",
   "execution_count": 1,
   "id": "810ce7e7-b52d-496a-bf4c-efc274cda447",
   "metadata": {},
   "outputs": [
    {
     "name": "stderr",
     "output_type": "stream",
     "text": [
      "/home/guy/anaconda3/envs/omrl/lib/python3.7/site-packages/ray/autoscaler/_private/cli_logger.py:61: FutureWarning: Not all Ray CLI dependencies were found. In Ray 1.4+, the Ray CLI, autoscaler, and dashboard will only be usable via `pip install 'ray[default]'`. Please update your install command.\n",
      "  \"update your install command.\", FutureWarning)\n"
     ]
    }
   ],
   "source": [
    "import os\n",
    "import garage"
   ]
  },
  {
   "cell_type": "code",
   "execution_count": 2,
   "id": "bda6b74d-9b23-4d0c-816c-fc2f4dec541c",
   "metadata": {},
   "outputs": [
    {
     "data": {
      "text/plain": [
       "'/home/guy/workspace/work/git/gkoren2/garage/_labexp/data/local/experiment'"
      ]
     },
     "execution_count": 2,
     "metadata": {},
     "output_type": "execute_result"
    }
   ],
   "source": [
    "grg_dir = os.path.dirname(os.path.dirname(os.path.realpath('.')))\n",
    "exp_dir = os.path.join(grg_dir,'_labexp','data','local','experiment')\n",
    "exp_dir"
   ]
  },
  {
   "cell_type": "markdown",
   "id": "7b571ac6-3fe7-48ca-80d9-cb68d8d5918d",
   "metadata": {
    "heading_collapsed": "true",
    "tags": []
   },
   "source": [
    "# Analyzing Snapshot"
   ]
  },
  {
   "cell_type": "code",
   "execution_count": 4,
   "id": "29ad17cb-649d-47f2-87e4-02755f5c5db7",
   "metadata": {},
   "outputs": [],
   "source": [
    "from garage.experiment import Snapshotter"
   ]
  },
  {
   "cell_type": "code",
   "execution_count": 5,
   "id": "ea141e77-9e62-4512-8b3b-957771069916",
   "metadata": {},
   "outputs": [],
   "source": [
    "snapshotter = Snapshotter()"
   ]
  },
  {
   "cell_type": "code",
   "execution_count": 6,
   "id": "0e0e074c-a35d-4c2a-bc1b-9ddc8cddfd1a",
   "metadata": {},
   "outputs": [
    {
     "data": {
      "text/plain": [
       "['sac_dm_control_3',\n",
       " 'sac_dm_control',\n",
       " 'sac_half_cheetah_vel_2',\n",
       " 'sac_dm_control_2',\n",
       " 'sac_half_cheetah_vel_1',\n",
       " 'sac_dm_control_1',\n",
       " 'sac_half_cheetah_vel']"
      ]
     },
     "execution_count": 6,
     "metadata": {},
     "output_type": "execute_result"
    }
   ],
   "source": [
    "os.listdir(exp_dir)"
   ]
  },
  {
   "cell_type": "code",
   "execution_count": 7,
   "id": "f3a8a18a-2d63-4d6b-9112-3104939806b6",
   "metadata": {},
   "outputs": [
    {
     "data": {
      "text/plain": [
       "['itr_380.pkl',\n",
       " 'itr_320.pkl',\n",
       " 'variant.json',\n",
       " 'itr_280.pkl',\n",
       " 'itr_260.pkl',\n",
       " 'itr_120.pkl',\n",
       " 'progress.csv',\n",
       " 'itr_340.pkl',\n",
       " 'itr_200.pkl',\n",
       " 'itr_420.pkl',\n",
       " 'itr_80.pkl',\n",
       " 'metadata.json',\n",
       " 'itr_240.pkl',\n",
       " 'itr_220.pkl',\n",
       " 'debug.log',\n",
       " 'itr_180.pkl',\n",
       " 'itr_440.pkl',\n",
       " 'itr_100.pkl',\n",
       " 'itr_360.pkl',\n",
       " 'launch_archive.tar.xz',\n",
       " 'itr_20.pkl',\n",
       " 'events.out.tfevents.1625748175.guy-titanx',\n",
       " 'itr_160.pkl',\n",
       " 'experiment.json',\n",
       " 'itr_40.pkl',\n",
       " 'itr_140.pkl',\n",
       " 'itr_60.pkl',\n",
       " 'itr_460.pkl',\n",
       " 'itr_400.pkl',\n",
       " 'itr_480.pkl',\n",
       " 'itr_300.pkl',\n",
       " 'itr_0.pkl']"
      ]
     },
     "execution_count": 7,
     "metadata": {},
     "output_type": "execute_result"
    }
   ],
   "source": [
    "snp_folder = os.path.join(exp_dir,'sac_half_cheetah_vel')\n",
    "os.listdir(snp_folder)"
   ]
  },
  {
   "cell_type": "code",
   "execution_count": 8,
   "id": "6a5476c0-d85f-418a-9fee-6c46027b6aa5",
   "metadata": {},
   "outputs": [],
   "source": [
    "snapshot = snapshotter.load(snp_folder,itr=480)"
   ]
  },
  {
   "cell_type": "code",
   "execution_count": 9,
   "id": "b3607e1f-9091-4f6b-a388-29b1f41b5152",
   "metadata": {},
   "outputs": [
    {
     "data": {
      "text/plain": [
       "dict_keys(['seed', 'train_args', 'stats', 'env', 'algo', 'n_workers', 'worker_class', 'worker_args'])"
      ]
     },
     "execution_count": 9,
     "metadata": {},
     "output_type": "execute_result"
    }
   ],
   "source": [
    "snapshot.keys()"
   ]
  },
  {
   "cell_type": "code",
   "execution_count": 15,
   "id": "958fc9cc-462a-4465-b113-04c7c81ebfb3",
   "metadata": {},
   "outputs": [
    {
     "data": {
      "text/plain": [
       "{'n_epochs': 500,\n",
       " 'batch_size': 1000,\n",
       " 'plot': False,\n",
       " 'store_episodes': True,\n",
       " 'pause_for_plot': False,\n",
       " 'start_epoch': 0}"
      ]
     },
     "execution_count": 15,
     "metadata": {},
     "output_type": "execute_result"
    }
   ],
   "source": [
    "snapshot['train_args'].__dict__"
   ]
  },
  {
   "cell_type": "code",
   "execution_count": 24,
   "id": "784de7f7-5f83-408b-92f4-6451228dd0d8",
   "metadata": {},
   "outputs": [
    {
     "data": {
      "text/plain": [
       "EnvSpec(input_space=Box(6,), output_space=Box(20,), max_episode_length=200)"
      ]
     },
     "execution_count": 24,
     "metadata": {},
     "output_type": "execute_result"
    }
   ],
   "source": [
    "snapshot['env'].spec"
   ]
  },
  {
   "cell_type": "code",
   "execution_count": 25,
   "id": "35c656e3-20f2-4a63-9e5d-586188bc04ed",
   "metadata": {
    "collapsed": true,
    "jupyter": {
     "outputs_hidden": true
    },
    "tags": []
   },
   "outputs": [
    {
     "data": {
      "text/plain": [
       "['__class__',\n",
       " '__delattr__',\n",
       " '__dict__',\n",
       " '__dir__',\n",
       " '__doc__',\n",
       " '__eq__',\n",
       " '__format__',\n",
       " '__ge__',\n",
       " '__getattribute__',\n",
       " '__gt__',\n",
       " '__hash__',\n",
       " '__init__',\n",
       " '__init_subclass__',\n",
       " '__le__',\n",
       " '__lt__',\n",
       " '__module__',\n",
       " '__ne__',\n",
       " '__new__',\n",
       " '__reduce__',\n",
       " '__reduce_ex__',\n",
       " '__repr__',\n",
       " '__setattr__',\n",
       " '__sizeof__',\n",
       " '__str__',\n",
       " '__subclasshook__',\n",
       " '__weakref__',\n",
       " 'last_episode',\n",
       " 'total_env_steps',\n",
       " 'total_epoch',\n",
       " 'total_itr']"
      ]
     },
     "execution_count": 25,
     "metadata": {},
     "output_type": "execute_result"
    }
   ],
   "source": [
    "dir(snapshot['stats'])"
   ]
  },
  {
   "cell_type": "code",
   "execution_count": 32,
   "id": "c81a213f-55b9-445f-b700-879616e4c330",
   "metadata": {},
   "outputs": [],
   "source": [
    "# type(snapshot['n_workers'])\n",
    "snapshot['worker_args']"
   ]
  },
  {
   "cell_type": "code",
   "execution_count": 28,
   "id": "3cd0b0a6-051a-4e8a-a90c-bb71800fbece",
   "metadata": {},
   "outputs": [
    {
     "data": {
      "text/plain": [
       "481"
      ]
     },
     "execution_count": 28,
     "metadata": {},
     "output_type": "execute_result"
    }
   ],
   "source": [
    "snapshot['stats'].total_itr"
   ]
  },
  {
   "cell_type": "code",
   "execution_count": 33,
   "id": "89247817-de21-4265-9b41-7b5aeb7cfff5",
   "metadata": {},
   "outputs": [
    {
     "data": {
      "text/plain": [
       "1000"
      ]
     },
     "execution_count": 33,
     "metadata": {},
     "output_type": "execute_result"
    }
   ],
   "source": [
    "len(snapshot['stats'].last_episode)"
   ]
  },
  {
   "cell_type": "code",
   "execution_count": 34,
   "id": "f310c57b-67c9-4fcf-8db2-ddbc8582279c",
   "metadata": {},
   "outputs": [
    {
     "data": {
      "text/plain": [
       "490000"
      ]
     },
     "execution_count": 34,
     "metadata": {},
     "output_type": "execute_result"
    }
   ],
   "source": [
    "snapshot['algo'].replay_buffer.n_transitions_stored"
   ]
  },
  {
   "cell_type": "code",
   "execution_count": 37,
   "id": "5f7be166-ab33-4f06-a845-05990cdecd27",
   "metadata": {},
   "outputs": [
    {
     "data": {
      "text/plain": [
       "<garage.replay_buffer.path_buffer.PathBuffer at 0x7fcd6a44cb50>"
      ]
     },
     "execution_count": 37,
     "metadata": {},
     "output_type": "execute_result"
    }
   ],
   "source": [
    "rb=snapshot['algo'].replay_buffer\n",
    "rb"
   ]
  },
  {
   "cell_type": "code",
   "execution_count": 38,
   "id": "ec101c73-bdb5-4766-a928-b026aa426d78",
   "metadata": {},
   "outputs": [
    {
     "data": {
      "text/plain": [
       "dict_keys(['observation', 'action', 'reward', 'next_observation', 'terminal'])"
      ]
     },
     "execution_count": 38,
     "metadata": {},
     "output_type": "execute_result"
    }
   ],
   "source": [
    "rb._buffer.keys()"
   ]
  },
  {
   "cell_type": "code",
   "execution_count": 40,
   "id": "c0d21af6-0396-4dcf-b286-1397d33504cf",
   "metadata": {},
   "outputs": [
    {
     "data": {
      "text/plain": [
       "array([0])"
      ]
     },
     "execution_count": 40,
     "metadata": {},
     "output_type": "execute_result"
    }
   ],
   "source": [
    "sum(rb._buffer['terminal'])"
   ]
  },
  {
   "cell_type": "code",
   "execution_count": 42,
   "id": "779ec827-1e53-47b1-8011-54740fdad9b6",
   "metadata": {},
   "outputs": [
    {
     "name": "stdout",
     "output_type": "stream",
     "text": [
      "Box(20,)\n",
      "(2500000, 20)\n"
     ]
    }
   ],
   "source": [
    "print(snapshot['env'].observation_space)\n",
    "print(rb._buffer['observation'].shape)"
   ]
  },
  {
   "cell_type": "code",
   "execution_count": 44,
   "id": "e5bd1db7-1689-4c6e-96cd-83165cff94d5",
   "metadata": {},
   "outputs": [
    {
     "data": {
      "text/plain": [
       "array([-1.2983181e-01,  1.4170744e-01,  5.7366991e-01, -5.6045079e-01,\n",
       "       -8.1745917e-03, -9.6340084e-01,  2.5863844e-01,  1.3926847e-01,\n",
       "        2.9250958e+00, -6.0928650e-03,  2.0938087e+00, -9.0296388e-01,\n",
       "       -3.3533902e+00,  4.6635172e-01, -4.7428985e+00,  3.4991632e+00,\n",
       "        4.5461349e+00,  9.7879753e+00,  0.0000000e+00,  5.7022911e-01],\n",
       "      dtype=float32)"
      ]
     },
     "execution_count": 44,
     "metadata": {},
     "output_type": "execute_result"
    }
   ],
   "source": [
    "rb._buffer['observation'][rb.n_transitions_stored-1]"
   ]
  },
  {
   "cell_type": "code",
   "execution_count": 41,
   "id": "fdb49a9b-50c7-4ef7-b649-7ec47c3ec839",
   "metadata": {
    "collapsed": true,
    "jupyter": {
     "outputs_hidden": true
    },
    "tags": []
   },
   "outputs": [
    {
     "data": {
      "text/plain": [
       "{'observation': array([[-1.41877025e-01,  8.39102268e-02,  6.53182030e-01,\n",
       "         -5.30692637e-01, -3.05346608e-01, -1.00909805e+00,\n",
       "         -1.68152582e-02,  5.02361953e-01,  2.99073672e+00,\n",
       "         -3.89102221e-01,  1.43776214e+00,  3.15790677e+00,\n",
       "         -5.96591473e+00,  2.00715184e+00, -7.06651878e+00,\n",
       "          6.32623243e+00,  3.84166336e+00,  2.77069569e+01,\n",
       "          0.00000000e+00,  5.62013984e-01],\n",
       "        [-1.40191779e-01,  8.15855712e-02,  3.87739986e-01,\n",
       "         -9.71948281e-02, -2.20178932e-01, -2.70715714e-01,\n",
       "          1.00641146e-01, -3.72780561e-01,  3.38019991e+00,\n",
       "         -7.06979692e-01, -4.21317607e-01, -7.61923695e+00,\n",
       "          1.05250082e+01, -4.39962769e+00,  1.48603954e+01,\n",
       "          4.79662037e+00, -1.16562529e+01,  1.44815331e+01,\n",
       "          0.00000000e+00,  5.66878021e-01],\n",
       "        [-1.46554306e-01,  8.60176906e-02,  2.25674033e-01,\n",
       "         -3.48849744e-02, -7.32589215e-02, -1.99550927e-01,\n",
       "         -1.35885641e-01, -2.03150868e-01,  2.77314687e+00,\n",
       "         -4.22626227e-01, -1.65068418e-01, -1.28524504e+01,\n",
       "          1.12324924e+01, -7.78988934e+00,  1.88543701e+01,\n",
       "         -2.83646011e+00, -9.65914726e-01,  5.20730972e+00,\n",
       "          0.00000000e+00,  5.57671964e-01],\n",
       "        [-1.86733335e-01, -4.06523012e-02, -1.00664966e-01,\n",
       "          5.72484016e-01, -3.56505156e-01,  3.58144879e-01,\n",
       "         -1.25178486e-01, -4.24178064e-01,  3.26669502e+00,\n",
       "         -3.06324005e-01, -2.48386884e+00, -8.12285364e-01,\n",
       "          8.38243675e+00, -3.53933871e-01,  7.05423498e+00,\n",
       "          8.09382498e-01,  6.02825403e+00,  1.64742374e+01,\n",
       "          0.00000000e+00,  5.16329885e-01],\n",
       "        [-1.35874003e-01, -2.12233849e-02, -1.33451536e-01,\n",
       "          2.19542995e-01, -4.24354672e-01,  2.25585654e-01,\n",
       "          1.33237839e-01, -5.50693452e-01,  3.49493003e+00,\n",
       "          6.64483309e-02, -3.74111605e+00,  5.20742357e-01,\n",
       "          1.51400814e+01,  2.68756092e-01,  1.03626835e+00,\n",
       "          1.54520760e+01, -9.71466923e+00,  3.16262150e+00,\n",
       "          0.00000000e+00,  5.63461542e-01],\n",
       "        [-1.33943856e-01, -9.10354480e-02, -4.10332471e-01,\n",
       "          3.49619955e-01, -4.36651707e-01, -9.41522047e-02,\n",
       "          3.43898207e-01, -4.94677573e-01,  1.51717532e+00,\n",
       "         -5.84724605e-01, -3.96560216e+00, -9.22536373e+00,\n",
       "          4.19239521e+00, -6.57620549e-01,  2.04802704e+00,\n",
       "          8.35817719e+00, -1.51548767e+01,  3.37863803e+00,\n",
       "          0.00000000e+00,  5.71903408e-01],\n",
       "        [-1.43746138e-01, -5.95388422e-03, -3.37438017e-01,\n",
       "          5.18051744e-01, -1.76813647e-01,  7.08157495e-02,\n",
       "          8.55505094e-02, -5.50821781e-01,  3.37904406e+00,\n",
       "         -2.43362114e-01, -5.88378310e-03, -2.32538176e+00,\n",
       "          5.24913359e+00,  1.05694818e+00,  6.98495865e+00,\n",
       "          1.74981177e+00, -7.66964674e+00,  2.03791885e+01,\n",
       "          0.00000000e+00,  5.58687508e-01],\n",
       "        [-1.68220550e-01, -5.43694161e-02, -1.47963971e-01,\n",
       "          6.10836565e-01, -4.03173029e-01,  1.51836544e-01,\n",
       "          2.77826060e-02, -4.35345680e-01,  3.16903996e+00,\n",
       "         -4.21787918e-01, -3.39930701e+00, -5.78652668e+00,\n",
       "          6.61834145e+00, -6.00814962e+00,  6.73174191e+00,\n",
       "          5.34223986e+00, -1.69576871e+00,  1.67001781e+01,\n",
       "          0.00000000e+00,  5.35997331e-01],\n",
       "        [-8.56945291e-02,  8.92731175e-02,  2.22508416e-01,\n",
       "         -1.82712734e-01,  1.09580144e-01, -4.94798124e-01,\n",
       "          1.58539355e-01, -5.67316972e-02,  3.18229938e+00,\n",
       "         -4.08068113e-02, -5.00685692e-01, -9.30365562e+00,\n",
       "          8.77163124e+00, -6.08699512e+00,  1.43012104e+01,\n",
       "         -2.31052727e-01,  5.89980662e-01,  4.93514156e+00,\n",
       "          0.00000000e+00,  6.14713550e-01],\n",
       "        [-1.42214388e-01,  1.53720947e-02, -1.33902049e-02,\n",
       "          2.43433386e-01,  1.37155667e-01,  1.29901946e-01,\n",
       "         -1.82592705e-01, -1.15691088e-01, -3.71873856e-01,\n",
       "         -8.34996223e-01, -5.76286256e-01, -1.55254173e+00,\n",
       "          6.52179337e+00,  6.89746332e+00, -1.13767862e-01,\n",
       "          3.56134105e+00, -1.24482670e+01, -2.20440459e+00,\n",
       "          0.00000000e+00,  5.66135585e-01]], dtype=float32),\n",
       " 'action': array([[-0.76095945,  0.16325723, -0.6534005 ,  0.9372711 ,  0.61535716,\n",
       "         -0.49078703],\n",
       "        [ 0.36838642,  0.9599259 , -0.9634619 ,  0.18568197,  0.7292799 ,\n",
       "          0.79937   ],\n",
       "        [ 0.6499906 ,  0.9417771 , -0.97626173, -0.43816257,  0.82394034,\n",
       "         -0.88450307],\n",
       "        [ 0.4490123 ,  0.7979727 , -0.10564925, -0.81494457, -0.9911638 ,\n",
       "         -0.7739322 ],\n",
       "        [ 0.7797414 ,  0.4056683 , -0.9572727 , -0.9876959 , -0.9018637 ,\n",
       "         -0.8308394 ],\n",
       "        [ 0.9941405 ,  0.9647387 , -0.98135036,  0.04477719,  0.92861176,\n",
       "         -0.9747418 ],\n",
       "        [-0.04418791,  0.7657021 , -0.8632591 , -0.9500402 , -0.81883407,\n",
       "         -0.13705038],\n",
       "        [ 0.04102802,  0.9673605 , -0.7375238 , -0.8577287 , -0.49431676,\n",
       "         -0.4799663 ],\n",
       "        [ 0.4839924 ,  0.19769464, -0.796543  , -0.67232597,  0.76583004,\n",
       "         -0.8784955 ],\n",
       "        [-0.87978953,  0.8797573 , -0.5584873 , -0.27017242,  0.90654707,\n",
       "          0.07525459]], dtype=float32),\n",
       " 'reward': array([[-0.13121782],\n",
       "        [-0.23575929],\n",
       "        [-0.65315383],\n",
       "        [-0.27944376],\n",
       "        [-0.41300437],\n",
       "        [-0.6557633 ],\n",
       "        [-0.26071819],\n",
       "        [-0.16246206],\n",
       "        [-0.15608583],\n",
       "        [-4.27012706]]),\n",
       " 'next_observation': array([[-1.61603063e-01,  4.34430353e-02,  2.07548007e-01,\n",
       "          1.07957244e-01, -2.14589655e-01, -4.01840299e-01,\n",
       "         -3.18873189e-02, -2.76005808e-02,  2.91408181e+00,\n",
       "         -5.26412249e-01, -1.83056247e+00, -1.32602816e+01,\n",
       "          1.53617907e+01,  1.02895677e+00,  1.69599361e+01,\n",
       "         -9.01923275e+00, -2.17966080e+01,  2.78574886e+01,\n",
       "          0.00000000e+00,  5.43661058e-01],\n",
       "        [-1.74729481e-01, -4.70223166e-02,  6.26314133e-02,\n",
       "          5.28358281e-01, -4.58224773e-01,  2.04816446e-01,\n",
       "         -3.59684303e-02, -4.17051435e-01,  2.92776012e+00,\n",
       "         -5.49542308e-01, -3.43498874e+00, -4.12366676e+00,\n",
       "          9.29309273e+00,  1.74871489e-01,  7.16823626e+00,\n",
       "          4.56916653e-02,  6.15727472e+00,  1.46322460e+01,\n",
       "          0.00000000e+00,  5.30765951e-01],\n",
       "        [-1.71209067e-01, -2.55738627e-02, -9.75933969e-02,\n",
       "          4.27814603e-01, -4.97206956e-01,  1.55724034e-01,\n",
       "          2.41150633e-02, -5.78531861e-01,  2.52843499e+00,\n",
       "         -4.75217029e-02, -3.50052285e+00, -1.31578052e+00,\n",
       "          5.83526182e+00,  2.14873597e-01,  4.05545855e+00,\n",
       "          5.37787771e+00, -3.66942972e-01,  5.33688879e+00,\n",
       "          0.00000000e+00,  5.29266179e-01],\n",
       "        [-1.79243341e-01, -1.09106094e-01,  7.82180727e-02,\n",
       "          5.26443720e-01, -1.52107880e-01,  1.45570859e-01,\n",
       "         -1.25950053e-01, -1.69985414e-01,  2.59841633e+00,\n",
       "          1.77528337e-01, -7.15125322e-01,  4.75168276e+00,\n",
       "         -4.56593275e+00,  5.22236204e+00, -1.01021252e+01,\n",
       "         -9.80629921e-01,  3.84548736e+00,  1.66246853e+01,\n",
       "          0.00000000e+00,  5.18981397e-01],\n",
       "        [-1.22635536e-01, -1.12723537e-01,  2.38318086e-01,\n",
       "          3.59165490e-01, -4.19033438e-01, -4.58661765e-02,\n",
       "          2.54049182e-01, -4.06263769e-01,  2.94645000e+00,\n",
       "          1.49744764e-01, -7.60842204e-01,  8.82429981e+00,\n",
       "         -2.53813839e+00, -2.91264872e-03, -8.24276543e+00,\n",
       "         -5.19480371e+00,  4.60799408e+00,  3.32833624e+00,\n",
       "          0.00000000e+00,  5.75866997e-01],\n",
       "        [-1.06685691e-01, -2.00952068e-01, -1.54660791e-01,\n",
       "          4.52384144e-01, -4.46363568e-01,  4.86631319e-02,\n",
       "          5.82497180e-01, -5.22395074e-01,  3.02735019e+00,\n",
       "          1.26136434e+00, -7.86591709e-01,  1.12668142e+01,\n",
       "          1.43094289e+00,  6.42880559e-01,  2.92672753e+00,\n",
       "          2.40083218e+00,  3.13479185e+00,  3.49248934e+00,\n",
       "          0.00000000e+00,  5.80700696e-01],\n",
       "        [-1.27905935e-01,  3.55606489e-02, -1.79583654e-01,\n",
       "          4.17855471e-01, -3.85767430e-01,  4.95019667e-02,\n",
       "         -1.19527563e-01, -3.68833035e-01,  2.57094860e+00,\n",
       "          4.23550785e-01,  1.17005336e+00,  4.65292740e+00,\n",
       "         -4.35886860e+00, -5.17331123e+00, -6.15668917e+00,\n",
       "         -4.98989105e+00,  7.27224779e+00,  2.05315475e+01,\n",
       "          0.00000000e+00,  5.67858577e-01],\n",
       "        [-1.69085488e-01, -1.48954824e-01, -1.64621249e-01,\n",
       "          6.42931998e-01, -4.21869934e-01,  4.12518978e-02,\n",
       "          1.45052701e-01, -3.08772326e-01,  2.85797596e+00,\n",
       "          3.42167377e-01, -3.46467674e-01,  3.38988733e+00,\n",
       "          4.69148308e-01,  7.92769372e-01, -7.06601954e+00,\n",
       "         -3.03463429e-01,  4.50434017e+00,  1.68518963e+01,\n",
       "          0.00000000e+00,  5.27492821e-01],\n",
       "        [-9.41452906e-02,  2.18459871e-02, -3.36850844e-02,\n",
       "          9.35881510e-02, -4.21439201e-01, -1.07906468e-01,\n",
       "          2.23063812e-01, -4.42736506e-01,  2.96601033e+00,\n",
       "         -1.73272863e-01, -1.54611969e+00, -1.84160268e+00,\n",
       "          2.05049014e+00, -9.74448586e+00,  3.21729445e+00,\n",
       "          4.96396780e+00, -8.48336029e+00,  5.08629560e+00,\n",
       "          0.00000000e+00,  6.07587457e-01],\n",
       "        [-1.69256806e-01, -5.97724654e-02, -2.76938796e-01,\n",
       "          5.81316531e-01, -3.20463963e-02, -4.37989011e-02,\n",
       "          1.72160983e-01, -5.29503405e-01, -1.41397250e+00,\n",
       "         -3.89263451e-01, -1.80268252e+00, -6.24667788e+00,\n",
       "          4.28275585e+00, -7.45899153e+00, -4.77767897e+00,\n",
       "          7.66870546e+00, -4.37732124e+00, -2.25058889e+00,\n",
       "          0.00000000e+00,  5.34635842e-01]], dtype=float32),\n",
       " 'terminal': array([[False],\n",
       "        [False],\n",
       "        [False],\n",
       "        [False],\n",
       "        [False],\n",
       "        [False],\n",
       "        [False],\n",
       "        [False],\n",
       "        [False],\n",
       "        [False]])}"
      ]
     },
     "execution_count": 41,
     "metadata": {},
     "output_type": "execute_result"
    }
   ],
   "source": [
    "path=rb.sample_transitions(10)\n",
    "path"
   ]
  },
  {
   "cell_type": "code",
   "execution_count": 45,
   "id": "ab3c8f7b-e032-45cf-be41-4ef8cbe22f21",
   "metadata": {},
   "outputs": [
    {
     "data": {
      "text/plain": [
       "['__abstractmethods__',\n",
       " '__class__',\n",
       " '__delattr__',\n",
       " '__dict__',\n",
       " '__dir__',\n",
       " '__doc__',\n",
       " '__eq__',\n",
       " '__format__',\n",
       " '__ge__',\n",
       " '__getattribute__',\n",
       " '__gt__',\n",
       " '__hash__',\n",
       " '__init__',\n",
       " '__init_subclass__',\n",
       " '__le__',\n",
       " '__lt__',\n",
       " '__module__',\n",
       " '__ne__',\n",
       " '__new__',\n",
       " '__reduce__',\n",
       " '__reduce_ex__',\n",
       " '__repr__',\n",
       " '__setattr__',\n",
       " '__sizeof__',\n",
       " '__slots__',\n",
       " '__str__',\n",
       " '__subclasshook__',\n",
       " '__weakref__',\n",
       " '_abc_impl',\n",
       " '_actor_objective',\n",
       " '_alpha_optimizer',\n",
       " '_buffer_batch_size',\n",
       " '_critic_objective',\n",
       " '_discount',\n",
       " '_eval_env',\n",
       " '_evaluate_policy',\n",
       " '_fixed_alpha',\n",
       " '_get_log_alpha',\n",
       " '_gradient_steps',\n",
       " '_initial_log_entropy',\n",
       " '_log_alpha',\n",
       " '_log_statistics',\n",
       " '_max_episode_length_eval',\n",
       " '_min_buffer_size',\n",
       " '_num_evaluation_episodes',\n",
       " '_optimizer',\n",
       " '_policy_lr',\n",
       " '_policy_optimizer',\n",
       " '_qf1',\n",
       " '_qf1_optimizer',\n",
       " '_qf2',\n",
       " '_qf2_optimizer',\n",
       " '_qf_lr',\n",
       " '_reward_scale',\n",
       " '_sampler',\n",
       " '_steps_per_epoch',\n",
       " '_target_entropy',\n",
       " '_target_qf1',\n",
       " '_target_qf2',\n",
       " '_tau',\n",
       " '_temperature_objective',\n",
       " '_update_targets',\n",
       " '_use_automatic_entropy_tuning',\n",
       " '_use_deterministic_evaluation',\n",
       " 'env_spec',\n",
       " 'episode_rewards',\n",
       " 'max_episode_length',\n",
       " 'networks',\n",
       " 'optimize_policy',\n",
       " 'policy',\n",
       " 'replay_buffer',\n",
       " 'to',\n",
       " 'train',\n",
       " 'train_once']"
      ]
     },
     "execution_count": 45,
     "metadata": {},
     "output_type": "execute_result"
    }
   ],
   "source": [
    "dir(snapshot['algo'])"
   ]
  },
  {
   "cell_type": "code",
   "execution_count": 51,
   "id": "efd64f3f-d054-4f79-8ee5-6ea99c610e5f",
   "metadata": {},
   "outputs": [
    {
     "data": {
      "text/plain": [
       "<bound method StochasticPolicy.get_actions of TanhGaussianMLPPolicy(\n",
       "  (_module): GaussianMLPTwoHeadedModule(\n",
       "    (_shared_mean_log_std_network): MultiHeadedMLPModule(\n",
       "      (_layers): ModuleList(\n",
       "        (0): Sequential(\n",
       "          (linear): Linear(in_features=20, out_features=256, bias=True)\n",
       "          (non_linearity): ReLU()\n",
       "        )\n",
       "        (1): Sequential(\n",
       "          (linear): Linear(in_features=256, out_features=256, bias=True)\n",
       "          (non_linearity): ReLU()\n",
       "        )\n",
       "      )\n",
       "      (_output_layers): ModuleList(\n",
       "        (0): Sequential(\n",
       "          (linear): Linear(in_features=256, out_features=6, bias=True)\n",
       "        )\n",
       "        (1): Sequential(\n",
       "          (linear): Linear(in_features=256, out_features=6, bias=True)\n",
       "        )\n",
       "      )\n",
       "    )\n",
       "  )\n",
       ")>"
      ]
     },
     "execution_count": 51,
     "metadata": {},
     "output_type": "execute_result"
    }
   ],
   "source": [
    "snapshot['algo'].policy.get_actions"
   ]
  },
  {
   "cell_type": "code",
   "execution_count": 64,
   "id": "cde8b7fb-5d60-4177-a758-cf0c549b0a94",
   "metadata": {},
   "outputs": [],
   "source": [
    "policy480=snapshot['algo'].policy\n"
   ]
  },
  {
   "cell_type": "markdown",
   "id": "a6c619db-b0c0-4d9a-8c11-8c091cbc9f4c",
   "metadata": {
    "tags": []
   },
   "source": [
    "## Debugging half_cheetah_env"
   ]
  },
  {
   "cell_type": "code",
   "execution_count": null,
   "id": "0fa77870-9a55-4dc1-b8ec-5fb5e9777e1d",
   "metadata": {},
   "outputs": [],
   "source": [
    "from garage.envs.mujoco import HalfCheetahVelEnv\n",
    "from garage.envs import GymEnv, normalize\n",
    "vel_step=0.075\n",
    "task_id=10\n",
    "task_vel = task_id*vel_step\n",
    "task = {'velocity': task_vel}\n",
    "env = normalize(GymEnv(HalfCheetahVelEnv(task), max_episode_length=200), expected_action_scale=1.)\n",
    "env"
   ]
  },
  {
   "cell_type": "code",
   "execution_count": null,
   "id": "5a28c93e-29f1-4728-a60f-f2aebca28727",
   "metadata": {},
   "outputs": [],
   "source": [
    "env.reset()"
   ]
  },
  {
   "cell_type": "code",
   "execution_count": null,
   "id": "97801002-3d91-4715-a7be-708255819e77",
   "metadata": {},
   "outputs": [],
   "source": [
    "env.step(env.action_space.sample())"
   ]
  },
  {
   "cell_type": "code",
   "execution_count": null,
   "id": "ac318f44-028d-4344-a440-d45031cf6cbf",
   "metadata": {},
   "outputs": [],
   "source": [
    "env2 = GymEnv('CartPole-v0')"
   ]
  },
  {
   "cell_type": "code",
   "execution_count": null,
   "id": "d9b4787d-6472-43db-9b4e-710fa04a62ba",
   "metadata": {},
   "outputs": [],
   "source": [
    "env2.reset()"
   ]
  },
  {
   "cell_type": "code",
   "execution_count": null,
   "id": "4352368d-eafd-480a-996f-84ffe6844c49",
   "metadata": {},
   "outputs": [],
   "source": [
    "env2.step(env2.action_space.sample())"
   ]
  },
  {
   "cell_type": "markdown",
   "id": "45b4b5ac-b9da-4bce-8877-7062fe5d4b00",
   "metadata": {
    "tags": []
   },
   "source": [
    "# Reproducing DM results\n",
    "in this section, we'll try to check the performance of DM's algorithm as described in [Hyperparameter Selection for Offline RL](https://arxiv.org/pdf/2007.09055.pdf)  \n",
    "we have various checkpoints of SAC and we'll take the experience buffer of another checkpoint and see to what extent we can rank them"
   ]
  },
  {
   "cell_type": "code",
   "execution_count": 3,
   "id": "14a6c042-195b-4879-b439-3334d8886a07",
   "metadata": {},
   "outputs": [],
   "source": [
    "from garage.experiment import Snapshotter\n",
    "snapshotter = Snapshotter()"
   ]
  },
  {
   "cell_type": "code",
   "execution_count": 4,
   "id": "958f5175-5a3f-4fd8-8a09-40697f675c90",
   "metadata": {},
   "outputs": [
    {
     "data": {
      "text/plain": [
       "['sac_half_cheetah_vel']"
      ]
     },
     "execution_count": 4,
     "metadata": {},
     "output_type": "execute_result"
    }
   ],
   "source": [
    "os.listdir(exp_dir)"
   ]
  },
  {
   "cell_type": "code",
   "execution_count": 5,
   "id": "1e125621-1399-4718-bad5-cdd046d14c7b",
   "metadata": {},
   "outputs": [
    {
     "data": {
      "text/plain": [
       "['itr_380.pkl',\n",
       " 'itr_320.pkl',\n",
       " 'variant.json',\n",
       " 'itr_280.pkl',\n",
       " 'itr_260.pkl',\n",
       " 'itr_120.pkl',\n",
       " 'progress.csv',\n",
       " 'itr_340.pkl',\n",
       " 'itr_200.pkl',\n",
       " 'itr_420.pkl',\n",
       " 'itr_80.pkl',\n",
       " 'metadata.json',\n",
       " 'itr_240.pkl',\n",
       " 'itr_220.pkl',\n",
       " 'debug.log',\n",
       " 'itr_180.pkl',\n",
       " 'itr_440.pkl',\n",
       " 'itr_100.pkl',\n",
       " 'itr_360.pkl',\n",
       " 'launch_archive.tar.xz',\n",
       " 'itr_20.pkl',\n",
       " 'events.out.tfevents.1625748175.guy-titanx',\n",
       " 'itr_160.pkl',\n",
       " 'experiment.json',\n",
       " 'itr_40.pkl',\n",
       " 'itr_140.pkl',\n",
       " 'itr_60.pkl',\n",
       " 'itr_460.pkl',\n",
       " 'itr_400.pkl',\n",
       " 'itr_480.pkl',\n",
       " 'itr_300.pkl',\n",
       " 'itr_0.pkl']"
      ]
     },
     "execution_count": 5,
     "metadata": {},
     "output_type": "execute_result"
    }
   ],
   "source": [
    "snp_folder = os.path.join(exp_dir,'sac_half_cheetah_vel')\n",
    "os.listdir(snp_folder)"
   ]
  },
  {
   "cell_type": "code",
   "execution_count": 68,
   "id": "41927f01-d488-4c03-934e-31e2f2af653a",
   "metadata": {},
   "outputs": [],
   "source": [
    "%load_ext tensorboard"
   ]
  },
  {
   "cell_type": "code",
   "execution_count": 69,
   "id": "4fc9dc9d-d5ea-4f29-ae13-35637ae49cd5",
   "metadata": {
    "collapsed": true,
    "jupyter": {
     "outputs_hidden": true
    },
    "tags": []
   },
   "outputs": [
    {
     "data": {
      "text/html": [
       "\n",
       "      <iframe id=\"tensorboard-frame-ec98859b253de02b\" width=\"100%\" height=\"800\" frameborder=\"0\">\n",
       "      </iframe>\n",
       "      <script>\n",
       "        (function() {\n",
       "          const frame = document.getElementById(\"tensorboard-frame-ec98859b253de02b\");\n",
       "          const url = new URL(\"/\", window.location);\n",
       "          const port = 6006;\n",
       "          if (port) {\n",
       "            url.port = port;\n",
       "          }\n",
       "          frame.src = url;\n",
       "        })();\n",
       "      </script>\n",
       "    "
      ],
      "text/plain": [
       "<IPython.core.display.HTML object>"
      ]
     },
     "metadata": {},
     "output_type": "display_data"
    }
   ],
   "source": [
    "%tensorboard --logdir $snp_folder"
   ]
  },
  {
   "cell_type": "markdown",
   "id": "421df411-6779-4387-ad42-d6af9b519ef3",
   "metadata": {
    "tags": []
   },
   "source": [
    "Based on the performance as boserved in the tensorboard, lets take the following checkpoints:\n",
    " - poor performance - iteration 40 (Evaluation average return = -240) --> cand 1\n",
    " - bad performance - iteration 60 (Evaluation average return = -160) --> cand 2\n",
    " - good performance - iteration 160 (Evaluation average return = -107) --> cand 3\n",
    " - expert performance - iteration 460 (Evaluation average return = -55) --> cand 4\n",
    " \n",
    " as behavior policy lets start with the latest (expert) iteration buffer."
   ]
  },
  {
   "cell_type": "code",
   "execution_count": 6,
   "id": "5d91ff40-2a7c-4c89-b190-136e3a0a3287",
   "metadata": {},
   "outputs": [],
   "source": [
    "policies_itr = {'poor':40,'bad':60,'good':160,'expert':460}\n"
   ]
  },
  {
   "cell_type": "code",
   "execution_count": 8,
   "id": "66ed7dab-cb86-402c-8e5f-f04b346f8d14",
   "metadata": {},
   "outputs": [],
   "source": [
    "# load the policies\n",
    "policies = {k:snapshotter.load(snp_folder,itr=itr)['algo'].policy for k,itr in policies_itr.items()} "
   ]
  },
  {
   "cell_type": "code",
   "execution_count": 12,
   "id": "b22a99f9-7f49-4829-a767-947bf5c50206",
   "metadata": {},
   "outputs": [],
   "source": [
    "# load the evaluation buffer\n",
    "Dataset = snapshotter.load(snp_folder,itr=480)['algo'].replay_buffer"
   ]
  },
  {
   "cell_type": "code",
   "execution_count": 14,
   "id": "c1fe1ab1-544c-4140-8f63-3c3afb5b4843",
   "metadata": {},
   "outputs": [
    {
     "data": {
      "text/plain": [
       "490000"
      ]
     },
     "execution_count": 14,
     "metadata": {},
     "output_type": "execute_result"
    }
   ],
   "source": [
    "Dataset.n_transitions_stored"
   ]
  },
  {
   "cell_type": "code",
   "execution_count": null,
   "id": "5650934d-8f98-4764-997b-b6daad1de408",
   "metadata": {},
   "outputs": [],
   "source": []
  }
 ],
 "metadata": {
  "kernelspec": {
   "display_name": "Python3.6 (omrl)",
   "language": "python",
   "name": "omrl"
  },
  "language_info": {
   "codemirror_mode": {
    "name": "ipython",
    "version": 3
   },
   "file_extension": ".py",
   "mimetype": "text/x-python",
   "name": "python",
   "nbconvert_exporter": "python",
   "pygments_lexer": "ipython3",
   "version": "3.7.10"
  }
 },
 "nbformat": 4,
 "nbformat_minor": 5
}
